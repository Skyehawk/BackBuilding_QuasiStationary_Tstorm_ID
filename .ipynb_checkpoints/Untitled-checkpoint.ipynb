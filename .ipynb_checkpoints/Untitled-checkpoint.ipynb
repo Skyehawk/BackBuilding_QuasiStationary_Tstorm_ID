{
 "cells": [
  {
   "cell_type": "code",
   "execution_count": 52,
   "id": "ba8b74d3",
   "metadata": {},
   "outputs": [],
   "source": [
    "from scipy.interpolate import RectSphereBivariateSpline\n",
    "import numpy as np\n",
    "import matplotlib.pyplot as plt\n",
    "from mpl_toolkits.basemap import shiftgrid\n"
   ]
  },
  {
   "cell_type": "code",
   "execution_count": 23,
   "id": "69c808e6",
   "metadata": {},
   "outputs": [],
   "source": [
    "ray_range = np.linspace(10, 170, 9) * np.pi / 180.\n",
    "\n",
    "ray_angle = np.linspace(0, 350, 18) * np.pi / 180.\n",
    "\n",
    "data = np.dot(np.atleast_2d(90. - np.linspace(-80., 80., 18)).T,\n",
    "\n",
    "              np.atleast_2d(180. - np.abs(np.linspace(0., 350., 9)))).T\n"
   ]
  },
  {
   "cell_type": "code",
   "execution_count": 24,
   "id": "79b6f262",
   "metadata": {},
   "outputs": [],
   "source": [
    "new_lats = np.linspace(1, 180, 180) * np.pi / 180\n",
    "\n",
    "new_lons = np.linspace(1, 360, 360) * np.pi / 180\n",
    "\n",
    "new_lats, new_lons = np.meshgrid(new_lats, new_lons)\n"
   ]
  },
  {
   "cell_type": "code",
   "execution_count": 25,
   "id": "118478d4",
   "metadata": {},
   "outputs": [],
   "source": [
    "lut = RectSphereBivariateSpline(ray_range, ray_angle, data)"
   ]
  },
  {
   "cell_type": "code",
   "execution_count": 26,
   "id": "13e309d4",
   "metadata": {},
   "outputs": [],
   "source": [
    "data_interp = lut.ev(new_lats.ravel(),\\\n",
    "                     new_lons.ravel()).reshape((360, 180)).T"
   ]
  },
  {
   "cell_type": "code",
   "execution_count": 27,
   "id": "1e28cc54",
   "metadata": {},
   "outputs": [
    {
     "data": {
      "image/png": "[encoded data removed]",
      "text/plain": [
       "<Figure size 432x288 with 2 Axes>"
      ]
     },
     "metadata": {
      "needs_background": "light"
     },
     "output_type": "display_data"
    }
   ],
   "source": [
    "fig = plt.figure()\n",
    "\n",
    "ax1 = fig.add_subplot(211)\n",
    "\n",
    "ax1.imshow(data, interpolation='nearest')\n",
    "\n",
    "ax2 = fig.add_subplot(212)\n",
    "\n",
    "ax2.imshow(data_interp, interpolation='nearest')\n",
    "\n",
    "plt.show()\n",
    "\n"
   ]
  },
  {
   "cell_type": "code",
   "execution_count": null,
   "id": "39d35a92",
   "metadata": {},
   "outputs": [],
   "source": []
  },
  {
   "cell_type": "code",
   "execution_count": null,
   "id": "a347bcad",
   "metadata": {},
   "outputs": [],
   "source": []
  },
  {
   "cell_type": "code",
   "execution_count": 49,
   "id": "2dd766a2",
   "metadata": {},
   "outputs": [],
   "source": [
    "def get_interp_grid(lats, lons, data, grid_size_degree, mesh=False):\n",
    "        # Page 32 of: https://skemman.is/bitstream/1946/16233/1/final_processingwithpython_dillon.pdf  \n",
    "        # We want to interpolate it to a global x-degree grid\n",
    "        deg2rad = np.pi/180.\n",
    "        #new_lats = np.linspace(grid_size_deg, 180, 180/grid_size_deg)\n",
    "        #new_lons = np.linspace(grid_size_deg, 360, 360/grid_size_deg)\n",
    "        #new_lats_mesh, new_lons_mesh = np.meshgrid(new_lats*deg2rad, new_lons*deg2rad)\n",
    "        \n",
    "        #We need to set up the interpolator object’’’\n",
    "        lut = RectSphereBivariateSpline(lons*deg2rad, lats*deg2rad, data)\n",
    "        \n",
    "        #Finally we interpolate the data. The RectSphereBivariateSpline\n",
    "        #object only takes 1-D arrays as input, therefore we need to do some reshaping.\n",
    "        #new_lats = new_lats_mesh.ravel()\n",
    "        #new_lons = new_lons_mesh.ravel()\n",
    "        data_interp = lut.ev(lons.ravel(),lats.ravel())\n",
    "        if mesh == True:\n",
    "            data_interp = data_interp.reshape((360/grid_size_deg,\n",
    "                        180/grid_size_deg)).T\n",
    "        return new_lats/deg2rad, new_lons/deg2rad, data_interp"
   ]
  },
  {
   "cell_type": "code",
   "execution_count": 63,
   "id": "9ee14a92",
   "metadata": {},
   "outputs": [
    {
     "name": "stdout",
     "output_type": "stream",
     "text": [
      "(900, 900)\n",
      "(900, 900)\n"
     ]
    },
    {
     "data": {
      "text/plain": [
       "array([[43.    , 43.    , 43.    , ..., 43.    , 43.    , 43.    ],\n",
       "       [43.0025, 43.0025, 43.0025, ..., 43.0025, 43.0025, 43.0025],\n",
       "       [43.005 , 43.005 , 43.005 , ..., 43.005 , 43.005 , 43.005 ],\n",
       "       ...,\n",
       "       [45.2425, 45.2425, 45.2425, ..., 45.2425, 45.2425, 45.2425],\n",
       "       [45.245 , 45.245 , 45.245 , ..., 45.245 , 45.245 , 45.245 ],\n",
       "       [45.2475, 45.2475, 45.2475, ..., 45.2475, 45.2475, 45.2475]])"
      ]
     },
     "execution_count": 63,
     "metadata": {},
     "output_type": "execute_result"
    }
   ],
   "source": [
    "xrange = np.arange(260.00, 262.25, .0025)\n",
    "yrange = np.arange(43.0, 45.25, .0025)\n",
    "xlocs, ylocs = np.meshgrid(xrange, yrange)\n",
    "data = np.random.rand(np.shape(xlocs)[0], np.shape(xlocs)[1])\n",
    "#dataout, lonsout = shiftgrid(lon0=0, datain=data, lonsin=xlocs, cyclic=(xrange[0]-xrange[-1]))\n",
    "print(np.shape(xlocs))\n",
    "print(np.shape(data))\n",
    "ylocs"
   ]
  },
  {
   "cell_type": "code",
   "execution_count": 61,
   "id": "6b51a9de",
   "metadata": {},
   "outputs": [
    {
     "ename": "ValueError",
     "evalue": "u must be strictly increasing",
     "output_type": "error",
     "traceback": [
      "\u001b[0;31m---------------------------------------------------------------------------\u001b[0m",
      "\u001b[0;31mValueError\u001b[0m                                Traceback (most recent call last)",
      "\u001b[0;32m/tmp/ipykernel_15685/1838158420.py\u001b[0m in \u001b[0;36m<module>\u001b[0;34m\u001b[0m\n\u001b[0;32m----> 1\u001b[0;31m \u001b[0mget_interp_grid\u001b[0m\u001b[0;34m(\u001b[0m\u001b[0mlats\u001b[0m\u001b[0;34m=\u001b[0m\u001b[0mylocs\u001b[0m\u001b[0;34m*\u001b[0m\u001b[0mnp\u001b[0m\u001b[0;34m.\u001b[0m\u001b[0mpi\u001b[0m\u001b[0;34m/\u001b[0m\u001b[0;36m180\u001b[0m\u001b[0;34m,\u001b[0m \u001b[0mlons\u001b[0m\u001b[0;34m=\u001b[0m\u001b[0mxlocs\u001b[0m\u001b[0;34m*\u001b[0m\u001b[0mnp\u001b[0m\u001b[0;34m.\u001b[0m\u001b[0mpi\u001b[0m\u001b[0;34m/\u001b[0m\u001b[0;36m180\u001b[0m\u001b[0;34m,\u001b[0m \u001b[0mdata\u001b[0m\u001b[0;34m=\u001b[0m\u001b[0mdata\u001b[0m\u001b[0;34m,\u001b[0m \u001b[0mgrid_size_degree\u001b[0m\u001b[0;34m=\u001b[0m\u001b[0;36m.025\u001b[0m\u001b[0;34m)\u001b[0m\u001b[0;34m\u001b[0m\u001b[0;34m\u001b[0m\u001b[0m\n\u001b[0m",
      "\u001b[0;32m/tmp/ipykernel_15685/1949305903.py\u001b[0m in \u001b[0;36mget_interp_grid\u001b[0;34m(lats, lons, data, grid_size_degree, mesh)\u001b[0m\n\u001b[1;32m      8\u001b[0m \u001b[0;34m\u001b[0m\u001b[0m\n\u001b[1;32m      9\u001b[0m         \u001b[0;31m#We need to set up the interpolator object’’’\u001b[0m\u001b[0;34m\u001b[0m\u001b[0;34m\u001b[0m\u001b[0;34m\u001b[0m\u001b[0m\n\u001b[0;32m---> 10\u001b[0;31m         \u001b[0mlut\u001b[0m \u001b[0;34m=\u001b[0m \u001b[0mRectSphereBivariateSpline\u001b[0m\u001b[0;34m(\u001b[0m\u001b[0mlons\u001b[0m\u001b[0;34m*\u001b[0m\u001b[0mdeg2rad\u001b[0m\u001b[0;34m,\u001b[0m \u001b[0mlats\u001b[0m\u001b[0;34m*\u001b[0m\u001b[0mdeg2rad\u001b[0m\u001b[0;34m,\u001b[0m \u001b[0mdata\u001b[0m\u001b[0;34m)\u001b[0m\u001b[0;34m\u001b[0m\u001b[0;34m\u001b[0m\u001b[0m\n\u001b[0m\u001b[1;32m     11\u001b[0m \u001b[0;34m\u001b[0m\u001b[0m\n\u001b[1;32m     12\u001b[0m         \u001b[0;31m#Finally we interpolate the data. The RectSphereBivariateSpline\u001b[0m\u001b[0;34m\u001b[0m\u001b[0;34m\u001b[0m\u001b[0;34m\u001b[0m\u001b[0m\n",
      "\u001b[0;32m~/miniconda3/envs/CS_6100/lib/python3.9/site-packages/scipy/interpolate/fitpack2.py\u001b[0m in \u001b[0;36m__init__\u001b[0;34m(self, u, v, r, s, pole_continuity, pole_values, pole_exact, pole_flat)\u001b[0m\n\u001b[1;32m   1978\u001b[0m \u001b[0;34m\u001b[0m\u001b[0m\n\u001b[1;32m   1979\u001b[0m         \u001b[0;32mif\u001b[0m \u001b[0;32mnot\u001b[0m \u001b[0mnp\u001b[0m\u001b[0;34m.\u001b[0m\u001b[0mall\u001b[0m\u001b[0;34m(\u001b[0m\u001b[0mnp\u001b[0m\u001b[0;34m.\u001b[0m\u001b[0mdiff\u001b[0m\u001b[0;34m(\u001b[0m\u001b[0mu\u001b[0m\u001b[0;34m)\u001b[0m \u001b[0;34m>\u001b[0m \u001b[0;36m0.0\u001b[0m\u001b[0;34m)\u001b[0m\u001b[0;34m:\u001b[0m\u001b[0;34m\u001b[0m\u001b[0;34m\u001b[0m\u001b[0m\n\u001b[0;32m-> 1980\u001b[0;31m             \u001b[0;32mraise\u001b[0m \u001b[0mValueError\u001b[0m\u001b[0;34m(\u001b[0m\u001b[0;34m'u must be strictly increasing'\u001b[0m\u001b[0;34m)\u001b[0m\u001b[0;34m\u001b[0m\u001b[0;34m\u001b[0m\u001b[0m\n\u001b[0m\u001b[1;32m   1981\u001b[0m         \u001b[0;32mif\u001b[0m \u001b[0;32mnot\u001b[0m \u001b[0mnp\u001b[0m\u001b[0;34m.\u001b[0m\u001b[0mall\u001b[0m\u001b[0;34m(\u001b[0m\u001b[0mnp\u001b[0m\u001b[0;34m.\u001b[0m\u001b[0mdiff\u001b[0m\u001b[0;34m(\u001b[0m\u001b[0mv\u001b[0m\u001b[0;34m)\u001b[0m \u001b[0;34m>\u001b[0m \u001b[0;36m0.0\u001b[0m\u001b[0;34m)\u001b[0m\u001b[0;34m:\u001b[0m\u001b[0;34m\u001b[0m\u001b[0;34m\u001b[0m\u001b[0m\n\u001b[1;32m   1982\u001b[0m             \u001b[0;32mraise\u001b[0m \u001b[0mValueError\u001b[0m\u001b[0;34m(\u001b[0m\u001b[0;34m'v must be strictly increasing'\u001b[0m\u001b[0;34m)\u001b[0m\u001b[0;34m\u001b[0m\u001b[0;34m\u001b[0m\u001b[0m\n",
      "\u001b[0;31mValueError\u001b[0m: u must be strictly increasing"
     ]
    }
   ],
   "source": [
    "get_interp_grid(lats=ylocs[:,0]*np.pi/180, lons=xlocs[0,:]*np.pi/180, data=data, grid_size_degree=.025)"
   ]
  },
  {
   "cell_type": "code",
   "execution_count": null,
   "id": "472d4e20",
   "metadata": {},
   "outputs": [],
   "source": []
  }
 ],
 "metadata": {
  "kernelspec": {
   "display_name": "Python 3 (ipykernel)",
   "language": "python",
   "name": "python3"
  },
  "language_info": {
   "codemirror_mode": {
    "name": "ipython",
    "version": 3
   },
   "file_extension": ".py",
   "mimetype": "text/x-python",
   "name": "python",
   "nbconvert_exporter": "python",
   "pygments_lexer": "ipython3",
   "version": "3.9.6"
  }
 },
 "nbformat": 4,
 "nbformat_minor": 5
}
