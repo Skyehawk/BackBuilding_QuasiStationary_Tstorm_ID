{
 "cells": [
  {
   "cell_type": "code",
   "execution_count": 10,
   "id": "a710e677",
   "metadata": {},
   "outputs": [],
   "source": [
    "import matplotlib.pyplot as plt\n",
    "from pyresample.kd_tree import resample_nearest\n",
    "from pyresample.geometry import AreaDefinition"
   ]
  },
  {
   "cell_type": "code",
   "execution_count": 11,
   "id": "83fb69b3",
   "metadata": {},
   "outputs": [],
   "source": [
    "area_id = 'alaska'\n",
    "description = 'Alaska Lambert Equal Area grid'\n",
    "proj_id = 'alaska'\n",
    "projection = {'proj': 'stere', 'lat_0': 62., 'lon_0': -152.5, 'ellps': 'WGS84', 'units': 'm'}\n",
    "width = 2019\n",
    "height = 1463\n",
    "area_extent = (-757214.993104, -485904.321517, 757214.993104, 611533.818622)\n",
    "area_def = AreaDefinition(area_id, description, proj_id, projection,\n",
    "                          width, height, area_extent)"
   ]
  },
  {
   "cell_type": "code",
   "execution_count": 12,
   "id": "697ab8b2",
   "metadata": {},
   "outputs": [
    {
     "ename": "NameError",
     "evalue": "name 'swath_def' is not defined",
     "output_type": "error",
     "traceback": [
      "\u001b[0;31m---------------------------------------------------------------------------\u001b[0m",
      "\u001b[0;31mNameError\u001b[0m                                 Traceback (most recent call last)",
      "\u001b[0;32m/tmp/ipykernel_4338/1837751086.py\u001b[0m in \u001b[0;36m<module>\u001b[0;34m\u001b[0m\n\u001b[0;32m----> 1\u001b[0;31m \u001b[0mresult\u001b[0m \u001b[0;34m=\u001b[0m \u001b[0mresample_nearest\u001b[0m\u001b[0;34m(\u001b[0m\u001b[0mswath_def\u001b[0m\u001b[0;34m,\u001b[0m \u001b[0mtb37v\u001b[0m\u001b[0;34m,\u001b[0m \u001b[0marea_def\u001b[0m\u001b[0;34m,\u001b[0m \u001b[0mradius_of_influence\u001b[0m\u001b[0;34m=\u001b[0m\u001b[0;36m20000\u001b[0m\u001b[0;34m,\u001b[0m \u001b[0mfill_value\u001b[0m\u001b[0;34m=\u001b[0m\u001b[0;32mNone\u001b[0m\u001b[0;34m)\u001b[0m\u001b[0;34m\u001b[0m\u001b[0;34m\u001b[0m\u001b[0m\n\u001b[0m",
      "\u001b[0;31mNameError\u001b[0m: name 'swath_def' is not defined"
     ]
    }
   ],
   "source": [
    "result = resample_nearest(swath_def, tb37v, area_def, radius_of_influence=20000, fill_value=None)"
   ]
  },
  {
   "cell_type": "code",
   "execution_count": null,
   "id": "a312ea99",
   "metadata": {},
   "outputs": [],
   "source": [
    "crs = area_def.to_cartopy_crs()\n",
    "fig, ax = plt.subplots(subplot_kw=dict(projection=crs))\n",
    "coastlines = ax.coastlines()  \n",
    "ax.set_global()\n",
    "img = plt.imshow(result, transform=crs, extent=crs.bounds, origin='upper')\n",
    "cbar = plt.colorbar()\n",
    "plt.show()"
   ]
  }
 ],
 "metadata": {
  "kernelspec": {
   "display_name": "Python 3 (ipykernel)",
   "language": "python",
   "name": "python3"
  },
  "language_info": {
   "codemirror_mode": {
    "name": "ipython",
    "version": 3
   },
   "file_extension": ".py",
   "mimetype": "text/x-python",
   "name": "python",
   "nbconvert_exporter": "python",
   "pygments_lexer": "ipython3",
   "version": "3.9.6"
  }
 },
 "nbformat": 4,
 "nbformat_minor": 5
}
